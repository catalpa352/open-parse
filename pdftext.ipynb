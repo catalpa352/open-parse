{
  "nbformat": 4,
  "nbformat_minor": 0,
  "metadata": {
    "colab": {
      "provenance": []
    },
    "kernelspec": {
      "name": "python3",
      "display_name": "Python 3"
    },
    "language_info": {
      "name": "python"
    }
  },
  "cells": [
    {
      "cell_type": "code",
      "execution_count": 1,
      "metadata": {
        "colab": {
          "base_uri": "https://localhost:8080/"
        },
        "id": "nsISgBlm0HRI",
        "outputId": "ba41ba69-5480-41db-d0f2-10fd0e93c4e0"
      },
      "outputs": [
        {
          "output_type": "stream",
          "name": "stdout",
          "text": [
            "Collecting pdftext\n",
            "  Downloading pdftext-0.5.1-py3-none-any.whl.metadata (8.5 kB)\n",
            "Requirement already satisfied: click<9.0.0,>=8.1.8 in /usr/local/lib/python3.11/dist-packages (from pdftext) (8.1.8)\n",
            "Requirement already satisfied: pydantic<3.0.0,>=2.7.1 in /usr/local/lib/python3.11/dist-packages (from pdftext) (2.10.6)\n",
            "Collecting pydantic-settings<3.0.0,>=2.2.1 (from pdftext)\n",
            "  Downloading pydantic_settings-2.7.1-py3-none-any.whl.metadata (3.5 kB)\n",
            "Collecting pypdfium2==4.30.0 (from pdftext)\n",
            "  Downloading pypdfium2-4.30.0-py3-none-manylinux_2_17_x86_64.manylinux2014_x86_64.whl.metadata (48 kB)\n",
            "\u001b[2K     \u001b[90m━━━━━━━━━━━━━━━━━━━━━━━━━━━━━━━━━━━━━━━━\u001b[0m \u001b[32m48.5/48.5 kB\u001b[0m \u001b[31m1.8 MB/s\u001b[0m eta \u001b[36m0:00:00\u001b[0m\n",
            "\u001b[?25hRequirement already satisfied: annotated-types>=0.6.0 in /usr/local/lib/python3.11/dist-packages (from pydantic<3.0.0,>=2.7.1->pdftext) (0.7.0)\n",
            "Requirement already satisfied: pydantic-core==2.27.2 in /usr/local/lib/python3.11/dist-packages (from pydantic<3.0.0,>=2.7.1->pdftext) (2.27.2)\n",
            "Requirement already satisfied: typing-extensions>=4.12.2 in /usr/local/lib/python3.11/dist-packages (from pydantic<3.0.0,>=2.7.1->pdftext) (4.12.2)\n",
            "Collecting python-dotenv>=0.21.0 (from pydantic-settings<3.0.0,>=2.2.1->pdftext)\n",
            "  Downloading python_dotenv-1.0.1-py3-none-any.whl.metadata (23 kB)\n",
            "Downloading pdftext-0.5.1-py3-none-any.whl (22 kB)\n",
            "Downloading pypdfium2-4.30.0-py3-none-manylinux_2_17_x86_64.manylinux2014_x86_64.whl (2.8 MB)\n",
            "\u001b[2K   \u001b[90m━━━━━━━━━━━━━━━━━━━━━━━━━━━━━━━━━━━━━━━━\u001b[0m \u001b[32m2.8/2.8 MB\u001b[0m \u001b[31m42.8 MB/s\u001b[0m eta \u001b[36m0:00:00\u001b[0m\n",
            "\u001b[?25hDownloading pydantic_settings-2.7.1-py3-none-any.whl (29 kB)\n",
            "Downloading python_dotenv-1.0.1-py3-none-any.whl (19 kB)\n",
            "Installing collected packages: python-dotenv, pypdfium2, pydantic-settings, pdftext\n",
            "Successfully installed pdftext-0.5.1 pydantic-settings-2.7.1 pypdfium2-4.30.0 python-dotenv-1.0.1\n"
          ]
        }
      ],
      "source": [
        "!pip install pdftext"
      ]
    },
    {
      "cell_type": "markdown",
      "source": [
        "# **Command-line calls**"
      ],
      "metadata": {
        "id": "9UqdfNCeGZ7d"
      }
    },
    {
      "cell_type": "markdown",
      "source": [
        "**Extract plain text and text from tables**："
      ],
      "metadata": {
        "id": "2Ko2bPF92urw"
      }
    },
    {
      "cell_type": "code",
      "source": [
        "!pdftext /content/ppt_to_pdf.pdf --out_path /content/output.txt"
      ],
      "metadata": {
        "id": "AC0z7DXE0QFq"
      },
      "execution_count": 3,
      "outputs": []
    },
    {
      "cell_type": "code",
      "source": [
        "二图二题哦\n",
        "• deepseek\n",
        "• 男孩女孩\n",
        "• 沃尔沃i\n",
        "• deepseek\n",
        "• 男孩女孩\n",
        "• 沃尔沃i • deepseek • 问题为为而 为人\n",
        "• 为而结尾 你好 额外跳舞 而特 问题为你说啥 胎儿臀位 如图 数据而结尾 而为 玩儿 问题 玩儿 而特"
      ],
      "metadata": {
        "id": "EdCwX3auEAxI"
      },
      "execution_count": null,
      "outputs": []
    },
    {
      "cell_type": "markdown",
      "source": [
        "**Extract the text of each page, the specific position of the text, and the font size of the text:**"
      ],
      "metadata": {
        "id": "epLLX3VZ4D5F"
      }
    },
    {
      "cell_type": "code",
      "source": [
        "!pdftext /content/ppt_to_pdf.pdf --out_path /content/output2.txt --json"
      ],
      "metadata": {
        "id": "5lXnGo9d3EpG"
      },
      "execution_count": 4,
      "outputs": []
    },
    {
      "cell_type": "code",
      "source": [
        "[{\"page\": 0, \"bbox\": [0.0, 0.0, 960.0, 540.0], \"width\": 960, \"height\": 540, \"rotation\": 0, \"blocks\": [{\"lines\": [{\"spans\": [{\"bbox\": [345.0, 131.97967529296875, 615.0, 185.97964477539062], \"text\": \"\\u4e8c\\u56fe\\u4e8c\\u9898\\u54e6\", \"rotation\": 0.0, \"font\": {\"name\": \"NERFFC+HYShuSongErKW\", \"flags\": 524320, \"size\": 1080.0, \"weight\": 280}, \"char_start_idx\": 0, \"char_end_idx\": 4, \"url\": \"\"}], \"bbox\": [345.0, 131.97967529296875, 615.0, 185.97964477539062]}], \"bbox\": [345.0, 131.97967529296875, 615.0, 185.97964477539062]}], \"refs\": []},\n",
        "\n",
        " {\"page\": 1, \"bbox\": [0.0, 0.0, 960.0, 540.0], \"width\": 960, \"height\": 540, \"rotation\": 0, \"blocks\": [{\"lines\": [{\"spans\": [{\"bbox\": [46.400001525878906, 41.413970947265625, 56.18250274658203, 69.36398315429688], \"text\": \"\\u2022\", \"rotation\": 0.0, \"font\": {\"name\": \"FVZGZT+ArialMT\", \"flags\": 524320, \"size\": 559.0, \"weight\": 280}, \"char_start_idx\": 0, \"char_end_idx\": 0, \"url\": \"\"}, {\"bbox\": [242.04998779296875, 62.54998779296875, 242.04998779296875, 62.54998779296875], \"text\": \" \", \"rotation\": 0.0, \"font\": {\"name\": \"\", \"flags\": 0, \"size\": 1.0, \"weight\": -1}, \"char_start_idx\": 1, \"char_end_idx\": 1, \"url\": \"\"}, {\"bbox\": [64.4000015258789, 43.228973388671875, 186.3060302734375, 71.178955078125], \"text\": \"deepseek\", \"rotation\": 0.0, \"font\": {\"name\": \"IPZUCP+HelveticaNeue\", \"flags\": 524320, \"size\": 559.0, \"weight\": 280}, \"char_start_idx\": 2, \"char_end_idx\": 9, \"url\": \"\"}, {\"bbox\": [461.9209899902344, 62.54998779296875, 461.9209899902344, 62.54998779296875], \"text\": \"\\n\", \"rotation\": 0.0, \"font\": {\"name\": \"\", \"flags\": 0, \"size\": 1.0, \"weight\": -1}, \"char_start_idx\": 10, \"char_end_idx\": 11, \"url\": \"\"}], \"bbox\": [46.400001525878906, 41.413970947265625, 461.9209899902344, 71.178955078125]}, {\"spans\": [{\"bbox\": [46.400001525878906, 79.91397094726562, 56.18250274658203, 107.86398315429688], \"text\": \"\\u2022\", \"rotation\": 0.0, \"font\": {\"name\": \"FVZGZT+ArialMT\", \"flags\": 524320, \"size\": 559.0, \"weight\": 280}, \"char_start_idx\": 12, \"char_end_idx\": 12, \"url\": \"\"}, {\"bbox\": [242.04998779296875, 101.04998779296875, 242.04998779296875, 101.04998779296875], \"text\": \" \", \"rotation\": 0.0, \"font\": {\"name\": \"\", \"flags\": 0, \"size\": 1.0, \"weight\": -1}, \"char_start_idx\": 13, \"char_end_idx\": 13, \"url\": \"\"}, {\"bbox\": [64.4000015258789, 81.541748046875, 176.34999084472656, 109.49172973632812], \"text\": \"\\u7537\\u5b69\\u5973\\u5b69\", \"rotation\": 0.0, \"font\": {\"name\": \"NERFFC+HYShuSongErKW\", \"flags\": 524320, \"size\": 559.0, \"weight\": 280}, \"char_start_idx\": 14, \"char_end_idx\": 17, \"url\": \"\"}, {\"bbox\": [707.4000244140625, 101.04998779296875, 707.4000244140625, 101.04998779296875], \"text\": \"\\n\", \"rotation\": 0.0, \"font\": {\"name\": \"\", \"flags\": 0, \"size\": 1.0, \"weight\": -1}, \"char_start_idx\": 18, \"char_end_idx\": 19, \"url\": \"\"}], \"bbox\": [46.400001525878906, 79.91397094726562, 707.4000244140625, 109.49172973632812]}, {\"spans\": [{\"bbox\": [46.400001525878906, 121.81399536132812, 56.18250274658203, 149.76400756835938], \"text\": \"\\u2022\", \"rotation\": 0.0, \"font\": {\"name\": \"FVZGZT+ArialMT\", \"flags\": 524320, \"size\": 559.0, \"weight\": 280}, \"char_start_idx\": 20, \"char_end_idx\": 20, \"url\": \"\"}, {\"bbox\": [242.04998779296875, 142.95001220703125, 242.04998779296875, 142.95001220703125], \"text\": \" \", \"rotation\": 0.0, \"font\": {\"name\": \"\", \"flags\": 0, \"size\": 1.0, \"weight\": -1}, \"char_start_idx\": 21, \"char_end_idx\": 21, \"url\": \"\"}, {\"bbox\": [64.4000015258789, 123.4417724609375, 148.34999084472656, 151.39175415039062], \"text\": \"\\u6c83\\u5c14\\u6c83\", \"rotation\": 0.0, \"font\": {\"name\": \"NERFFC+HYShuSongErKW\", \"flags\": 524320, \"size\": 559.0, \"weight\": 280}, \"char_start_idx\": 22, \"char_end_idx\": 24, \"url\": \"\"}, {\"bbox\": [148.39999389648438, 123.62899780273438, 154.60488891601562, 151.5789794921875], \"text\": \"i\", \"rotation\": 0.0, \"font\": {\"name\": \"IPZUCP+HelveticaNeue\", \"flags\": 524320, \"size\": 559.0, \"weight\": 280}, \"char_start_idx\": 25, \"char_end_idx\": 25, \"url\": \"\"}], \"bbox\": [46.400001525878906, 121.81399536132812, 242.04998779296875, 151.5789794921875]}], \"bbox\": [46.400001525878906, 41.413970947265625, 707.4000244140625, 151.5789794921875]}], \"refs\": []}, {\"page\": 2, \"bbox\": [0.0, 0.0, 960.0, 540.0], \"width\": 960, \"height\": 540, \"rotation\": 0, \"blocks\": [{\"lines\": [{\"spans\": [{\"bbox\": [58.20000076293945, 150.61398315429688, 67.98249816894531, 178.56399536132812], \"text\": \"\\u2022\", \"rotation\": 0.0, \"font\": {\"name\": \"FVZGZT+ArialMT\", \"flags\": 524320, \"size\": 559.0, \"weight\": 280}, \"char_start_idx\": 0, \"char_end_idx\": 0, \"url\": \"\"}, {\"bbox\": [253.84999084472656, 171.75, 253.84999084472656, 171.75], \"text\": \" \", \"rotation\": 0.0, \"font\": {\"name\": \"\", \"flags\": 0, \"size\": 1.0, \"weight\": -1}, \"char_start_idx\": 1, \"char_end_idx\": 1, \"url\": \"\"}, {\"bbox\": [76.19999694824219, 152.42898559570312, 198.1060333251953, 180.37896728515625], \"text\": \"deepseek\", \"rotation\": 0.0, \"font\": {\"name\": \"IPZUCP+HelveticaNeue\", \"flags\": 524320, \"size\": 559.0, \"weight\": 280}, \"char_start_idx\": 2, \"char_end_idx\": 9, \"url\": \"\"}, {\"bbox\": [473.72100830078125, 171.75, 473.72100830078125, 171.75], \"text\": \" \", \"rotation\": 0.0, \"font\": {\"name\": \"\", \"flags\": 0, \"size\": 1.0, \"weight\": -1}, \"char_start_idx\": 10, \"char_end_idx\": 10, \"url\": \"\"}], \"bbox\": [58.20000076293945, 150.61398315429688, 473.72100830078125, 180.37896728515625]}, {\"spans\": [{\"bbox\": [58.20000076293945, 189.11398315429688, 67.98249816894531, 217.06399536132812], \"text\": \"\\u2022\", \"rotation\": 0.0, \"font\": {\"name\": \"FVZGZT+ArialMT\", \"flags\": 524320, \"size\": 559.0, \"weight\": 280}, \"char_start_idx\": 11, \"char_end_idx\": 11, \"url\": \"\"}, {\"bbox\": [253.84999084472656, 210.25, 253.84999084472656, 210.25], \"text\": \" \", \"rotation\": 0.0, \"font\": {\"name\": \"\", \"flags\": 0, \"size\": 1.0, \"weight\": -1}, \"char_start_idx\": 12, \"char_end_idx\": 12, \"url\": \"\"}, {\"bbox\": [76.19999694824219, 190.74176025390625, 188.1499786376953, 218.69174194335938], \"text\": \"\\u7537\\u5b69\\u5973\\u5b69\", \"rotation\": 0.0, \"font\": {\"name\": \"NERFFC+HYShuSongErKW\", \"flags\": 524320, \"size\": 559.0, \"weight\": 280}, \"char_start_idx\": 13, \"char_end_idx\": 16, \"url\": \"\"}, {\"bbox\": [719.199951171875, 210.25, 719.199951171875, 210.25], \"text\": \" \", \"rotation\": 0.0, \"font\": {\"name\": \"\", \"flags\": 0, \"size\": 1.0, \"weight\": -1}, \"char_start_idx\": 17, \"char_end_idx\": 17, \"url\": \"\"}], \"bbox\": [58.20000076293945, 189.11398315429688, 719.199951171875, 218.69174194335938]}, {\"spans\": [{\"bbox\": [58.20000076293945, 231.01400756835938, 67.98249816894531, 258.9640197753906], \"text\": \"\\u2022\", \"rotation\": 0.0, \"font\": {\"name\": \"FVZGZT+ArialMT\", \"flags\": 524320, \"size\": 559.0, \"weight\": 280}, \"char_start_idx\": 18, \"char_end_idx\": 18, \"url\": \"\"}, {\"bbox\": [253.84999084472656, 252.1500244140625, 253.84999084472656, 252.1500244140625], \"text\": \" \", \"rotation\": 0.0, \"font\": {\"name\": \"\", \"flags\": 0, \"size\": 1.0, \"weight\": -1}, \"char_start_idx\": 19, \"char_end_idx\": 19, \"url\": \"\"}, {\"bbox\": [76.19999694824219, 232.64178466796875, 160.14999389648438, 260.5917663574219], \"text\": \"\\u6c83\\u5c14\\u6c83\", \"rotation\": 0.0, \"font\": {\"name\": \"NERFFC+HYShuSongErKW\", \"flags\": 524320, \"size\": 559.0, \"weight\": 280}, \"char_start_idx\": 20, \"char_end_idx\": 22, \"url\": \"\"}, {\"bbox\": [160.1999969482422, 232.82901000976562, 166.40489196777344, 260.77899169921875], \"text\": \"i\", \"rotation\": 0.0, \"font\": {\"name\": \"IPZUCP+HelveticaNeue\", \"flags\": 524320, \"size\": 559.0, \"weight\": 280}, \"char_start_idx\": 23, \"char_end_idx\": 23, \"url\": \"\"}, {\"bbox\": [284.2980041503906, 252.1500244140625, 284.2980041503906, 252.1500244140625], \"text\": \" \", \"rotation\": 0.0, \"font\": {\"name\": \"\", \"flags\": 0, \"size\": 1.0, \"weight\": -1}, \"char_start_idx\": 24, \"char_end_idx\": 24, \"url\": \"\"}, {\"bbox\": [662.3499755859375, 170.61398315429688, 672.1324462890625, 198.56399536132812], \"text\": \"\\u2022\", \"rotation\": 0.0, \"font\": {\"name\": \"FVZGZT+ArialMT\", \"flags\": 524320, \"size\": 559.0, \"weight\": 280}, \"char_start_idx\": 25, \"char_end_idx\": 25, \"url\": \"\"}, {\"bbox\": [858.0, 191.75, 858.0, 191.75], \"text\": \" \", \"rotation\": 0.0, \"font\": {\"name\": \"\", \"flags\": 0, \"size\": 1.0, \"weight\": -1}, \"char_start_idx\": 26, \"char_end_idx\": 26, \"url\": \"\"}, {\"bbox\": [680.3499755859375, 172.42898559570312, 802.2560424804688, 200.37896728515625], \"text\": \"deepseek\", \"rotation\": 0.0, \"font\": {\"name\": \"IPZUCP+HelveticaNeue\", \"flags\": 524320, \"size\": 559.0, \"weight\": 280}, \"char_start_idx\": 27, \"char_end_idx\": 34, \"url\": \"\"}, {\"bbox\": [1077.8709716796875, 191.75, 1077.8709716796875, 191.75], \"text\": \" \", \"rotation\": 0.0, \"font\": {\"name\": \"\", \"flags\": 0, \"size\": 1.0, \"weight\": -1}, \"char_start_idx\": 35, \"char_end_idx\": 35, \"url\": \"\"}, {\"bbox\": [662.3499755859375, 209.11398315429688, 672.1324462890625, 237.06399536132812], \"text\": \"\\u2022\", \"rotation\": 0.0, \"font\": {\"name\": \"FVZGZT+ArialMT\", \"flags\": 524320, \"size\": 559.0, \"weight\": 280}, \"char_start_idx\": 36, \"char_end_idx\": 36, \"url\": \"\"}, {\"bbox\": [858.0, 230.25, 858.0, 230.25], \"text\": \" \", \"rotation\": 0.0, \"font\": {\"name\": \"\", \"flags\": 0, \"size\": 1.0, \"weight\": -1}, \"char_start_idx\": 37, \"char_end_idx\": 37, \"url\": \"\"}, {\"bbox\": [680.3499755859375, 210.74176025390625, 820.2999877929688, 238.69174194335938], \"text\": \"\\u95ee\\u9898\\u4e3a\\u4e3a\\u800c\", \"rotation\": 0.0, \"font\": {\"name\": \"NERFFC+HYShuSongErKW\", \"flags\": 524320, \"size\": 559.0, \"weight\": 280}, \"char_start_idx\": 38, \"char_end_idx\": 42, \"url\": \"\"}, {\"bbox\": [1351.3499755859375, 230.25, 1351.3499755859375, 230.25], \"text\": \" \", \"rotation\": 0.0, \"font\": {\"name\": \"\", \"flags\": 0, \"size\": 1.0, \"weight\": -1}, \"char_start_idx\": 43, \"char_end_idx\": 43, \"url\": \"\"}, {\"bbox\": [680.3499755859375, 240.94174194335938, 736.2999877929688, 268.8917236328125], \"text\": \"\\u4e3a\\u4eba\", \"rotation\": 0.0, \"font\": {\"name\": \"NERFFC+HYShuSongErKW\", \"flags\": 524320, \"size\": 559.0, \"weight\": 280}, \"char_start_idx\": 44, \"char_end_idx\": 45, \"url\": \"\"}, {\"bbox\": [1267.3499755859375, 260.4499816894531, 1267.3499755859375, 260.4499816894531], \"text\": \" \", \"rotation\": 0.0, \"font\": {\"name\": \"\", \"flags\": 0, \"size\": 1.0, \"weight\": -1}, \"char_start_idx\": 46, \"char_end_idx\": 46, \"url\": \"\"}], \"bbox\": [58.20000076293945, 170.61398315429688, 1351.3499755859375, 268.8917236328125]}, {\"spans\": [{\"bbox\": [662.3499755859375, 279.51397705078125, 672.1324462890625, 307.4639892578125], \"text\": \"\\u2022\", \"rotation\": 0.0, \"font\": {\"name\": \"FVZGZT+ArialMT\", \"flags\": 524320, \"size\": 559.0, \"weight\": 280}, \"char_start_idx\": 47, \"char_end_idx\": 47, \"url\": \"\"}, {\"bbox\": [858.0, 300.6499938964844, 858.0, 300.6499938964844], \"text\": \" \", \"rotation\": 0.0, \"font\": {\"name\": \"\", \"flags\": 0, \"size\": 1.0, \"weight\": -1}, \"char_start_idx\": 48, \"char_end_idx\": 48, \"url\": \"\"}, {\"bbox\": [680.3499755859375, 281.1417541503906, 792.2999877929688, 309.0917510986328], \"text\": \"\\u4e3a\\u800c\\u7ed3\\u5c3e\", \"rotation\": 0.0, \"font\": {\"name\": \"NERFFC+HYShuSongErKW\", \"flags\": 524320, \"size\": 559.0, \"weight\": 280}, \"char_start_idx\": 49, \"char_end_idx\": 52, \"url\": \"\"}, {\"bbox\": [1323.3499755859375, 300.6499938964844, 1323.3499755859375, 300.6499938964844], \"text\": \" \", \"rotation\": 0.0, \"font\": {\"name\": \"\", \"flags\": 0, \"size\": 1.0, \"weight\": -1}, \"char_start_idx\": 53, \"char_end_idx\": 53, \"url\": \"\"}, {\"bbox\": [216.85000610351562, 117.38656616210938, 252.90000915527344, 135.38656616210938], \"text\": \"\\u4f60\\u597d\", \"rotation\": 0.0, \"font\": {\"name\": \"NERFFC+HYShuSongErKW\", \"flags\": 524320, \"size\": 360.0, \"weight\": 280}, \"char_start_idx\": 54, \"char_end_idx\": 55, \"url\": \"\"}, {\"bbox\": [594.9000244140625, 129.95001220703125, 594.9000244140625, 129.95001220703125], \"text\": \" \", \"rotation\": 0.0, \"font\": {\"name\": \"\", \"flags\": 0, \"size\": 1.0, \"weight\": -1}, \"char_start_idx\": 56, \"char_end_idx\": 56, \"url\": \"\"}, {\"bbox\": [352.6499938964844, 117.38656616210938, 424.79998779296875, 135.38656616210938], \"text\": \"\\u989d\\u5916\\u8df3\\u821e\", \"rotation\": 0.0, \"font\": {\"name\": \"NERFFC+HYShuSongErKW\", \"flags\": 524320, \"size\": 360.0, \"weight\": 280}, \"char_start_idx\": 57, \"char_end_idx\": 60, \"url\": \"\"}, {\"bbox\": [766.7999877929688, 129.95001220703125, 766.7999877929688, 129.95001220703125], \"text\": \" \", \"rotation\": 0.0, \"font\": {\"name\": \"\", \"flags\": 0, \"size\": 1.0, \"weight\": -1}, \"char_start_idx\": 61, \"char_end_idx\": 61, \"url\": \"\"}, {\"bbox\": [581.6499633789062, 118.63656616210938, 617.699951171875, 136.63656616210938], \"text\": \"\\u800c\\u7279\", \"rotation\": 0.0, \"font\": {\"name\": \"NERFFC+HYShuSongErKW\", \"flags\": 524320, \"size\": 360.0, \"weight\": 280}, \"char_start_idx\": 62, \"char_end_idx\": 63, \"url\": \"\"}, {\"bbox\": [959.699951171875, 131.20001220703125, 959.699951171875, 131.20001220703125], \"text\": \" \", \"rotation\": 0.0, \"font\": {\"name\": \"\", \"flags\": 0, \"size\": 1.0, \"weight\": -1}, \"char_start_idx\": 64, \"char_end_idx\": 64, \"url\": \"\"}, {\"bbox\": [216.85000610351562, 179.68655395507812, 324.8500061035156, 197.68655395507812], \"text\": \"\\u95ee\\u9898\\u4e3a\\u4f60\\u8bf4\\u5565\", \"rotation\": 0.0, \"font\": {\"name\": \"NERFFC+HYShuSongErKW\", \"flags\": 524320, \"size\": 360.0, \"weight\": 280}, \"char_start_idx\": 65, \"char_end_idx\": 70, \"url\": \"\"}, {\"bbox\": [666.8499755859375, 192.25, 666.8499755859375, 192.25], \"text\": \" \", \"rotation\": 0.0, \"font\": {\"name\": \"\", \"flags\": 0, \"size\": 1.0, \"weight\": -1}, \"char_start_idx\": 71, \"char_end_idx\": 71, \"url\": \"\"}, {\"bbox\": [352.6499938964844, 179.68655395507812, 424.6499938964844, 197.68655395507812], \"text\": \"\\u80ce\\u513f\\u81c0\\u4f4d\", \"rotation\": 0.0, \"font\": {\"name\": \"NERFFC+HYShuSongErKW\", \"flags\": 524320, \"size\": 360.0, \"weight\": 280}, \"char_start_idx\": 72, \"char_end_idx\": 75, \"url\": \"\"}, {\"bbox\": [766.6500244140625, 192.25, 766.6500244140625, 192.25], \"text\": \" \", \"rotation\": 0.0, \"font\": {\"name\": \"\", \"flags\": 0, \"size\": 1.0, \"weight\": -1}, \"char_start_idx\": 76, \"char_end_idx\": 76, \"url\": \"\"}, {\"bbox\": [576.6499633789062, 179.68655395507812, 612.6499633789062, 197.68655395507812], \"text\": \"\\u5982\\u56fe\", \"rotation\": 0.0, \"font\": {\"name\": \"NERFFC+HYShuSongErKW\", \"flags\": 524320, \"size\": 360.0, \"weight\": 280}, \"char_start_idx\": 77, \"char_end_idx\": 78, \"url\": \"\"}, {\"bbox\": [954.6499633789062, 192.25, 954.6499633789062, 192.25], \"text\": \" \", \"rotation\": 0.0, \"font\": {\"name\": \"\", \"flags\": 0, \"size\": 1.0, \"weight\": -1}, \"char_start_idx\": 79, \"char_end_idx\": 79, \"url\": \"\"}, {\"bbox\": [216.85000610351562, 241.98654174804688, 306.8500061035156, 259.9865417480469], \"text\": \"\\u6570\\u636e\\u800c\\u7ed3\\u5c3e\", \"rotation\": 0.0, \"font\": {\"name\": \"NERFFC+HYShuSongErKW\", \"flags\": 524320, \"size\": 360.0, \"weight\": 280}, \"char_start_idx\": 80, \"char_end_idx\": 84, \"url\": \"\"}, {\"bbox\": [648.8499755859375, 254.54998779296875, 648.8499755859375, 254.54998779296875], \"text\": \" \", \"rotation\": 0.0, \"font\": {\"name\": \"\", \"flags\": 0, \"size\": 1.0, \"weight\": -1}, \"char_start_idx\": 85, \"char_end_idx\": 85, \"url\": \"\"}, {\"bbox\": [352.6499938964844, 241.98654174804688, 388.6499938964844, 259.9865417480469], \"text\": \"\\u800c\\u4e3a\", \"rotation\": 0.0, \"font\": {\"name\": \"NERFFC+HYShuSongErKW\", \"flags\": 524320, \"size\": 360.0, \"weight\": 280}, \"char_start_idx\": 86, \"char_end_idx\": 87, \"url\": \"\"}, {\"bbox\": [730.6500244140625, 254.54998779296875, 730.6500244140625, 254.54998779296875], \"text\": \" \", \"rotation\": 0.0, \"font\": {\"name\": \"\", \"flags\": 0, \"size\": 1.0, \"weight\": -1}, \"char_start_idx\": 88, \"char_end_idx\": 88, \"url\": \"\"}, {\"bbox\": [576.6499633789062, 241.98654174804688, 612.6499633789062, 259.9865417480469], \"text\": \"\\u73a9\\u513f\", \"rotation\": 0.0, \"font\": {\"name\": \"NERFFC+HYShuSongErKW\", \"flags\": 524320, \"size\": 360.0, \"weight\": 280}, \"char_start_idx\": 89, \"char_end_idx\": 90, \"url\": \"\"}, {\"bbox\": [954.6499633789062, 254.54998779296875, 954.6499633789062, 254.54998779296875], \"text\": \" \", \"rotation\": 0.0, \"font\": {\"name\": \"\", \"flags\": 0, \"size\": 1.0, \"weight\": -1}, \"char_start_idx\": 91, \"char_end_idx\": 91, \"url\": \"\"}, {\"bbox\": [216.85000610351562, 304.2865295410156, 252.85000610351562, 322.2865295410156], \"text\": \"\\u95ee\\u9898\", \"rotation\": 0.0, \"font\": {\"name\": \"NERFFC+HYShuSongErKW\", \"flags\": 524320, \"size\": 360.0, \"weight\": 280}, \"char_start_idx\": 92, \"char_end_idx\": 93, \"url\": \"\"}, {\"bbox\": [594.8499755859375, 316.8499755859375, 594.8499755859375, 316.8499755859375], \"text\": \" \", \"rotation\": 0.0, \"font\": {\"name\": \"\", \"flags\": 0, \"size\": 1.0, \"weight\": -1}, \"char_start_idx\": 94, \"char_end_idx\": 94, \"url\": \"\"}, {\"bbox\": [352.6499938964844, 304.2865295410156, 388.6499938964844, 322.2865295410156], \"text\": \"\\u73a9\\u513f\", \"rotation\": 0.0, \"font\": {\"name\": \"NERFFC+HYShuSongErKW\", \"flags\": 524320, \"size\": 360.0, \"weight\": 280}, \"char_start_idx\": 95, \"char_end_idx\": 96, \"url\": \"\"}, {\"bbox\": [730.6500244140625, 316.8499755859375, 730.6500244140625, 316.8499755859375], \"text\": \" \", \"rotation\": 0.0, \"font\": {\"name\": \"\", \"flags\": 0, \"size\": 1.0, \"weight\": -1}, \"char_start_idx\": 97, \"char_end_idx\": 97, \"url\": \"\"}, {\"bbox\": [576.6499633789062, 304.2865295410156, 612.6499633789062, 322.2865295410156], \"text\": \"\\u800c\\u7279\", \"rotation\": 0.0, \"font\": {\"name\": \"NERFFC+HYShuSongErKW\", \"flags\": 524320, \"size\": 360.0, \"weight\": 280}, \"char_start_idx\": 98, \"char_end_idx\": 99, \"url\": \"\"}], \"bbox\": [216.85000610351562, 117.38656616210938, 1323.3499755859375, 322.2865295410156]}], \"bbox\": [58.20000076293945, 117.38656616210938, 1351.3499755859375, 322.2865295410156]}], \"refs\": []}]"
      ],
      "metadata": {
        "id": "K6Z-nDhg4QNq"
      },
      "execution_count": null,
      "outputs": []
    },
    {
      "cell_type": "markdown",
      "source": [
        "# Code calls"
      ],
      "metadata": {
        "id": "90oiiUQ_GhmV"
      }
    },
    {
      "cell_type": "code",
      "source": [
        "from pdftext.extraction import plain_text_output\n",
        "\n",
        "text = plain_text_output(\"/content/ppt_to_pdf.pdf\", sort=False, hyphens=False, page_range=[0,1,2]) # Optional arguments explained above\n",
        "print(text)"
      ],
      "metadata": {
        "colab": {
          "base_uri": "https://localhost:8080/"
        },
        "id": "L5I9Uar9F3Df",
        "outputId": "892cb06e-cf67-4329-9423-1fe24e62a686"
      },
      "execution_count": 5,
      "outputs": [
        {
          "output_type": "stream",
          "name": "stdout",
          "text": [
            "二图二题哦\n",
            "• deepseek\n",
            "• 男孩女孩\n",
            "• 沃尔沃i\n",
            "• deepseek\n",
            "• 男孩女孩\n",
            "• 沃尔沃i • deepseek • 问题为为而 为人\n",
            "• 为而结尾 你好 额外跳舞 而特 问题为你说啥 胎儿臀位 如图 数据而结尾 而为 玩儿 问题 玩儿 而特\n"
          ]
        }
      ]
    },
    {
      "cell_type": "code",
      "source": [
        "from pdftext.extraction import dictionary_output\n",
        "\n",
        "text = dictionary_output(\"/content/ppt_to_pdf.pdf\", sort=False, page_range=[0,1,2], keep_chars=False) # Optional arguments explained above\n",
        "print(text)"
      ],
      "metadata": {
        "colab": {
          "base_uri": "https://localhost:8080/"
        },
        "id": "7H_XrqIPGKZa",
        "outputId": "97088491-bdeb-46db-dcf6-32772e78b259"
      },
      "execution_count": 6,
      "outputs": [
        {
          "output_type": "stream",
          "name": "stdout",
          "text": [
            "[{'page': 0, 'bbox': (0.0, 0.0, 960.0, 540.0), 'width': 960, 'height': 540, 'rotation': 0, 'blocks': [{'lines': [{'spans': [{'bbox': [345.0, 131.97967529296875, 615.0, 185.97964477539062], 'text': '二图二题哦', 'rotation': 0.0, 'font': {'name': 'NERFFC+HYShuSongErKW', 'flags': 524320, 'size': 1080.0, 'weight': 280}, 'char_start_idx': 0, 'char_end_idx': 4, 'url': ''}], 'bbox': [345.0, 131.97967529296875, 615.0, 185.97964477539062]}], 'bbox': [345.0, 131.97967529296875, 615.0, 185.97964477539062]}], 'refs': []}, {'page': 1, 'bbox': (0.0, 0.0, 960.0, 540.0), 'width': 960, 'height': 540, 'rotation': 0, 'blocks': [{'lines': [{'spans': [{'bbox': [46.400001525878906, 41.413970947265625, 56.18250274658203, 69.36398315429688], 'text': '•', 'rotation': 0.0, 'font': {'name': 'FVZGZT+ArialMT', 'flags': 524320, 'size': 559.0, 'weight': 280}, 'char_start_idx': 0, 'char_end_idx': 0, 'url': ''}, {'bbox': [242.04998779296875, 62.54998779296875, 242.04998779296875, 62.54998779296875], 'text': ' ', 'rotation': 0.0, 'font': {'name': '', 'flags': 0, 'size': 1.0, 'weight': -1}, 'char_start_idx': 1, 'char_end_idx': 1, 'url': ''}, {'bbox': [64.4000015258789, 43.228973388671875, 186.3060302734375, 71.178955078125], 'text': 'deepseek', 'rotation': 0.0, 'font': {'name': 'IPZUCP+HelveticaNeue', 'flags': 524320, 'size': 559.0, 'weight': 280}, 'char_start_idx': 2, 'char_end_idx': 9, 'url': ''}, {'bbox': [461.9209899902344, 62.54998779296875, 461.9209899902344, 62.54998779296875], 'text': '\\n', 'rotation': 0.0, 'font': {'name': '', 'flags': 0, 'size': 1.0, 'weight': -1}, 'char_start_idx': 10, 'char_end_idx': 11, 'url': ''}], 'bbox': [46.400001525878906, 41.413970947265625, 461.9209899902344, 71.178955078125]}, {'spans': [{'bbox': [46.400001525878906, 79.91397094726562, 56.18250274658203, 107.86398315429688], 'text': '•', 'rotation': 0.0, 'font': {'name': 'FVZGZT+ArialMT', 'flags': 524320, 'size': 559.0, 'weight': 280}, 'char_start_idx': 12, 'char_end_idx': 12, 'url': ''}, {'bbox': [242.04998779296875, 101.04998779296875, 242.04998779296875, 101.04998779296875], 'text': ' ', 'rotation': 0.0, 'font': {'name': '', 'flags': 0, 'size': 1.0, 'weight': -1}, 'char_start_idx': 13, 'char_end_idx': 13, 'url': ''}, {'bbox': [64.4000015258789, 81.541748046875, 176.34999084472656, 109.49172973632812], 'text': '男孩女孩', 'rotation': 0.0, 'font': {'name': 'NERFFC+HYShuSongErKW', 'flags': 524320, 'size': 559.0, 'weight': 280}, 'char_start_idx': 14, 'char_end_idx': 17, 'url': ''}, {'bbox': [707.4000244140625, 101.04998779296875, 707.4000244140625, 101.04998779296875], 'text': '\\n', 'rotation': 0.0, 'font': {'name': '', 'flags': 0, 'size': 1.0, 'weight': -1}, 'char_start_idx': 18, 'char_end_idx': 19, 'url': ''}], 'bbox': [46.400001525878906, 79.91397094726562, 707.4000244140625, 109.49172973632812]}, {'spans': [{'bbox': [46.400001525878906, 121.81399536132812, 56.18250274658203, 149.76400756835938], 'text': '•', 'rotation': 0.0, 'font': {'name': 'FVZGZT+ArialMT', 'flags': 524320, 'size': 559.0, 'weight': 280}, 'char_start_idx': 20, 'char_end_idx': 20, 'url': ''}, {'bbox': [242.04998779296875, 142.95001220703125, 242.04998779296875, 142.95001220703125], 'text': ' ', 'rotation': 0.0, 'font': {'name': '', 'flags': 0, 'size': 1.0, 'weight': -1}, 'char_start_idx': 21, 'char_end_idx': 21, 'url': ''}, {'bbox': [64.4000015258789, 123.4417724609375, 148.34999084472656, 151.39175415039062], 'text': '沃尔沃', 'rotation': 0.0, 'font': {'name': 'NERFFC+HYShuSongErKW', 'flags': 524320, 'size': 559.0, 'weight': 280}, 'char_start_idx': 22, 'char_end_idx': 24, 'url': ''}, {'bbox': [148.39999389648438, 123.62899780273438, 154.60488891601562, 151.5789794921875], 'text': 'i', 'rotation': 0.0, 'font': {'name': 'IPZUCP+HelveticaNeue', 'flags': 524320, 'size': 559.0, 'weight': 280}, 'char_start_idx': 25, 'char_end_idx': 25, 'url': ''}], 'bbox': [46.400001525878906, 121.81399536132812, 242.04998779296875, 151.5789794921875]}], 'bbox': [46.400001525878906, 41.413970947265625, 707.4000244140625, 151.5789794921875]}], 'refs': []}, {'page': 2, 'bbox': (0.0, 0.0, 960.0, 540.0), 'width': 960, 'height': 540, 'rotation': 0, 'blocks': [{'lines': [{'spans': [{'bbox': [58.20000076293945, 150.61398315429688, 67.98249816894531, 178.56399536132812], 'text': '•', 'rotation': 0.0, 'font': {'name': 'FVZGZT+ArialMT', 'flags': 524320, 'size': 559.0, 'weight': 280}, 'char_start_idx': 0, 'char_end_idx': 0, 'url': ''}, {'bbox': [253.84999084472656, 171.75, 253.84999084472656, 171.75], 'text': ' ', 'rotation': 0.0, 'font': {'name': '', 'flags': 0, 'size': 1.0, 'weight': -1}, 'char_start_idx': 1, 'char_end_idx': 1, 'url': ''}, {'bbox': [76.19999694824219, 152.42898559570312, 198.1060333251953, 180.37896728515625], 'text': 'deepseek', 'rotation': 0.0, 'font': {'name': 'IPZUCP+HelveticaNeue', 'flags': 524320, 'size': 559.0, 'weight': 280}, 'char_start_idx': 2, 'char_end_idx': 9, 'url': ''}, {'bbox': [473.72100830078125, 171.75, 473.72100830078125, 171.75], 'text': ' ', 'rotation': 0.0, 'font': {'name': '', 'flags': 0, 'size': 1.0, 'weight': -1}, 'char_start_idx': 10, 'char_end_idx': 10, 'url': ''}], 'bbox': [58.20000076293945, 150.61398315429688, 473.72100830078125, 180.37896728515625]}, {'spans': [{'bbox': [58.20000076293945, 189.11398315429688, 67.98249816894531, 217.06399536132812], 'text': '•', 'rotation': 0.0, 'font': {'name': 'FVZGZT+ArialMT', 'flags': 524320, 'size': 559.0, 'weight': 280}, 'char_start_idx': 11, 'char_end_idx': 11, 'url': ''}, {'bbox': [253.84999084472656, 210.25, 253.84999084472656, 210.25], 'text': ' ', 'rotation': 0.0, 'font': {'name': '', 'flags': 0, 'size': 1.0, 'weight': -1}, 'char_start_idx': 12, 'char_end_idx': 12, 'url': ''}, {'bbox': [76.19999694824219, 190.74176025390625, 188.1499786376953, 218.69174194335938], 'text': '男孩女孩', 'rotation': 0.0, 'font': {'name': 'NERFFC+HYShuSongErKW', 'flags': 524320, 'size': 559.0, 'weight': 280}, 'char_start_idx': 13, 'char_end_idx': 16, 'url': ''}, {'bbox': [719.199951171875, 210.25, 719.199951171875, 210.25], 'text': ' ', 'rotation': 0.0, 'font': {'name': '', 'flags': 0, 'size': 1.0, 'weight': -1}, 'char_start_idx': 17, 'char_end_idx': 17, 'url': ''}], 'bbox': [58.20000076293945, 189.11398315429688, 719.199951171875, 218.69174194335938]}, {'spans': [{'bbox': [58.20000076293945, 231.01400756835938, 67.98249816894531, 258.9640197753906], 'text': '•', 'rotation': 0.0, 'font': {'name': 'FVZGZT+ArialMT', 'flags': 524320, 'size': 559.0, 'weight': 280}, 'char_start_idx': 18, 'char_end_idx': 18, 'url': ''}, {'bbox': [253.84999084472656, 252.1500244140625, 253.84999084472656, 252.1500244140625], 'text': ' ', 'rotation': 0.0, 'font': {'name': '', 'flags': 0, 'size': 1.0, 'weight': -1}, 'char_start_idx': 19, 'char_end_idx': 19, 'url': ''}, {'bbox': [76.19999694824219, 232.64178466796875, 160.14999389648438, 260.5917663574219], 'text': '沃尔沃', 'rotation': 0.0, 'font': {'name': 'NERFFC+HYShuSongErKW', 'flags': 524320, 'size': 559.0, 'weight': 280}, 'char_start_idx': 20, 'char_end_idx': 22, 'url': ''}, {'bbox': [160.1999969482422, 232.82901000976562, 166.40489196777344, 260.77899169921875], 'text': 'i', 'rotation': 0.0, 'font': {'name': 'IPZUCP+HelveticaNeue', 'flags': 524320, 'size': 559.0, 'weight': 280}, 'char_start_idx': 23, 'char_end_idx': 23, 'url': ''}, {'bbox': [284.2980041503906, 252.1500244140625, 284.2980041503906, 252.1500244140625], 'text': ' ', 'rotation': 0.0, 'font': {'name': '', 'flags': 0, 'size': 1.0, 'weight': -1}, 'char_start_idx': 24, 'char_end_idx': 24, 'url': ''}, {'bbox': [662.3499755859375, 170.61398315429688, 672.1324462890625, 198.56399536132812], 'text': '•', 'rotation': 0.0, 'font': {'name': 'FVZGZT+ArialMT', 'flags': 524320, 'size': 559.0, 'weight': 280}, 'char_start_idx': 25, 'char_end_idx': 25, 'url': ''}, {'bbox': [858.0, 191.75, 858.0, 191.75], 'text': ' ', 'rotation': 0.0, 'font': {'name': '', 'flags': 0, 'size': 1.0, 'weight': -1}, 'char_start_idx': 26, 'char_end_idx': 26, 'url': ''}, {'bbox': [680.3499755859375, 172.42898559570312, 802.2560424804688, 200.37896728515625], 'text': 'deepseek', 'rotation': 0.0, 'font': {'name': 'IPZUCP+HelveticaNeue', 'flags': 524320, 'size': 559.0, 'weight': 280}, 'char_start_idx': 27, 'char_end_idx': 34, 'url': ''}, {'bbox': [1077.8709716796875, 191.75, 1077.8709716796875, 191.75], 'text': ' ', 'rotation': 0.0, 'font': {'name': '', 'flags': 0, 'size': 1.0, 'weight': -1}, 'char_start_idx': 35, 'char_end_idx': 35, 'url': ''}, {'bbox': [662.3499755859375, 209.11398315429688, 672.1324462890625, 237.06399536132812], 'text': '•', 'rotation': 0.0, 'font': {'name': 'FVZGZT+ArialMT', 'flags': 524320, 'size': 559.0, 'weight': 280}, 'char_start_idx': 36, 'char_end_idx': 36, 'url': ''}, {'bbox': [858.0, 230.25, 858.0, 230.25], 'text': ' ', 'rotation': 0.0, 'font': {'name': '', 'flags': 0, 'size': 1.0, 'weight': -1}, 'char_start_idx': 37, 'char_end_idx': 37, 'url': ''}, {'bbox': [680.3499755859375, 210.74176025390625, 820.2999877929688, 238.69174194335938], 'text': '问题为为而', 'rotation': 0.0, 'font': {'name': 'NERFFC+HYShuSongErKW', 'flags': 524320, 'size': 559.0, 'weight': 280}, 'char_start_idx': 38, 'char_end_idx': 42, 'url': ''}, {'bbox': [1351.3499755859375, 230.25, 1351.3499755859375, 230.25], 'text': ' ', 'rotation': 0.0, 'font': {'name': '', 'flags': 0, 'size': 1.0, 'weight': -1}, 'char_start_idx': 43, 'char_end_idx': 43, 'url': ''}, {'bbox': [680.3499755859375, 240.94174194335938, 736.2999877929688, 268.8917236328125], 'text': '为人', 'rotation': 0.0, 'font': {'name': 'NERFFC+HYShuSongErKW', 'flags': 524320, 'size': 559.0, 'weight': 280}, 'char_start_idx': 44, 'char_end_idx': 45, 'url': ''}, {'bbox': [1267.3499755859375, 260.4499816894531, 1267.3499755859375, 260.4499816894531], 'text': ' ', 'rotation': 0.0, 'font': {'name': '', 'flags': 0, 'size': 1.0, 'weight': -1}, 'char_start_idx': 46, 'char_end_idx': 46, 'url': ''}], 'bbox': [58.20000076293945, 170.61398315429688, 1351.3499755859375, 268.8917236328125]}, {'spans': [{'bbox': [662.3499755859375, 279.51397705078125, 672.1324462890625, 307.4639892578125], 'text': '•', 'rotation': 0.0, 'font': {'name': 'FVZGZT+ArialMT', 'flags': 524320, 'size': 559.0, 'weight': 280}, 'char_start_idx': 47, 'char_end_idx': 47, 'url': ''}, {'bbox': [858.0, 300.6499938964844, 858.0, 300.6499938964844], 'text': ' ', 'rotation': 0.0, 'font': {'name': '', 'flags': 0, 'size': 1.0, 'weight': -1}, 'char_start_idx': 48, 'char_end_idx': 48, 'url': ''}, {'bbox': [680.3499755859375, 281.1417541503906, 792.2999877929688, 309.0917510986328], 'text': '为而结尾', 'rotation': 0.0, 'font': {'name': 'NERFFC+HYShuSongErKW', 'flags': 524320, 'size': 559.0, 'weight': 280}, 'char_start_idx': 49, 'char_end_idx': 52, 'url': ''}, {'bbox': [1323.3499755859375, 300.6499938964844, 1323.3499755859375, 300.6499938964844], 'text': ' ', 'rotation': 0.0, 'font': {'name': '', 'flags': 0, 'size': 1.0, 'weight': -1}, 'char_start_idx': 53, 'char_end_idx': 53, 'url': ''}, {'bbox': [216.85000610351562, 117.38656616210938, 252.90000915527344, 135.38656616210938], 'text': '你好', 'rotation': 0.0, 'font': {'name': 'NERFFC+HYShuSongErKW', 'flags': 524320, 'size': 360.0, 'weight': 280}, 'char_start_idx': 54, 'char_end_idx': 55, 'url': ''}, {'bbox': [594.9000244140625, 129.95001220703125, 594.9000244140625, 129.95001220703125], 'text': ' ', 'rotation': 0.0, 'font': {'name': '', 'flags': 0, 'size': 1.0, 'weight': -1}, 'char_start_idx': 56, 'char_end_idx': 56, 'url': ''}, {'bbox': [352.6499938964844, 117.38656616210938, 424.79998779296875, 135.38656616210938], 'text': '额外跳舞', 'rotation': 0.0, 'font': {'name': 'NERFFC+HYShuSongErKW', 'flags': 524320, 'size': 360.0, 'weight': 280}, 'char_start_idx': 57, 'char_end_idx': 60, 'url': ''}, {'bbox': [766.7999877929688, 129.95001220703125, 766.7999877929688, 129.95001220703125], 'text': ' ', 'rotation': 0.0, 'font': {'name': '', 'flags': 0, 'size': 1.0, 'weight': -1}, 'char_start_idx': 61, 'char_end_idx': 61, 'url': ''}, {'bbox': [581.6499633789062, 118.63656616210938, 617.699951171875, 136.63656616210938], 'text': '而特', 'rotation': 0.0, 'font': {'name': 'NERFFC+HYShuSongErKW', 'flags': 524320, 'size': 360.0, 'weight': 280}, 'char_start_idx': 62, 'char_end_idx': 63, 'url': ''}, {'bbox': [959.699951171875, 131.20001220703125, 959.699951171875, 131.20001220703125], 'text': ' ', 'rotation': 0.0, 'font': {'name': '', 'flags': 0, 'size': 1.0, 'weight': -1}, 'char_start_idx': 64, 'char_end_idx': 64, 'url': ''}, {'bbox': [216.85000610351562, 179.68655395507812, 324.8500061035156, 197.68655395507812], 'text': '问题为你说啥', 'rotation': 0.0, 'font': {'name': 'NERFFC+HYShuSongErKW', 'flags': 524320, 'size': 360.0, 'weight': 280}, 'char_start_idx': 65, 'char_end_idx': 70, 'url': ''}, {'bbox': [666.8499755859375, 192.25, 666.8499755859375, 192.25], 'text': ' ', 'rotation': 0.0, 'font': {'name': '', 'flags': 0, 'size': 1.0, 'weight': -1}, 'char_start_idx': 71, 'char_end_idx': 71, 'url': ''}, {'bbox': [352.6499938964844, 179.68655395507812, 424.6499938964844, 197.68655395507812], 'text': '胎儿臀位', 'rotation': 0.0, 'font': {'name': 'NERFFC+HYShuSongErKW', 'flags': 524320, 'size': 360.0, 'weight': 280}, 'char_start_idx': 72, 'char_end_idx': 75, 'url': ''}, {'bbox': [766.6500244140625, 192.25, 766.6500244140625, 192.25], 'text': ' ', 'rotation': 0.0, 'font': {'name': '', 'flags': 0, 'size': 1.0, 'weight': -1}, 'char_start_idx': 76, 'char_end_idx': 76, 'url': ''}, {'bbox': [576.6499633789062, 179.68655395507812, 612.6499633789062, 197.68655395507812], 'text': '如图', 'rotation': 0.0, 'font': {'name': 'NERFFC+HYShuSongErKW', 'flags': 524320, 'size': 360.0, 'weight': 280}, 'char_start_idx': 77, 'char_end_idx': 78, 'url': ''}, {'bbox': [954.6499633789062, 192.25, 954.6499633789062, 192.25], 'text': ' ', 'rotation': 0.0, 'font': {'name': '', 'flags': 0, 'size': 1.0, 'weight': -1}, 'char_start_idx': 79, 'char_end_idx': 79, 'url': ''}, {'bbox': [216.85000610351562, 241.98654174804688, 306.8500061035156, 259.9865417480469], 'text': '数据而结尾', 'rotation': 0.0, 'font': {'name': 'NERFFC+HYShuSongErKW', 'flags': 524320, 'size': 360.0, 'weight': 280}, 'char_start_idx': 80, 'char_end_idx': 84, 'url': ''}, {'bbox': [648.8499755859375, 254.54998779296875, 648.8499755859375, 254.54998779296875], 'text': ' ', 'rotation': 0.0, 'font': {'name': '', 'flags': 0, 'size': 1.0, 'weight': -1}, 'char_start_idx': 85, 'char_end_idx': 85, 'url': ''}, {'bbox': [352.6499938964844, 241.98654174804688, 388.6499938964844, 259.9865417480469], 'text': '而为', 'rotation': 0.0, 'font': {'name': 'NERFFC+HYShuSongErKW', 'flags': 524320, 'size': 360.0, 'weight': 280}, 'char_start_idx': 86, 'char_end_idx': 87, 'url': ''}, {'bbox': [730.6500244140625, 254.54998779296875, 730.6500244140625, 254.54998779296875], 'text': ' ', 'rotation': 0.0, 'font': {'name': '', 'flags': 0, 'size': 1.0, 'weight': -1}, 'char_start_idx': 88, 'char_end_idx': 88, 'url': ''}, {'bbox': [576.6499633789062, 241.98654174804688, 612.6499633789062, 259.9865417480469], 'text': '玩儿', 'rotation': 0.0, 'font': {'name': 'NERFFC+HYShuSongErKW', 'flags': 524320, 'size': 360.0, 'weight': 280}, 'char_start_idx': 89, 'char_end_idx': 90, 'url': ''}, {'bbox': [954.6499633789062, 254.54998779296875, 954.6499633789062, 254.54998779296875], 'text': ' ', 'rotation': 0.0, 'font': {'name': '', 'flags': 0, 'size': 1.0, 'weight': -1}, 'char_start_idx': 91, 'char_end_idx': 91, 'url': ''}, {'bbox': [216.85000610351562, 304.2865295410156, 252.85000610351562, 322.2865295410156], 'text': '问题', 'rotation': 0.0, 'font': {'name': 'NERFFC+HYShuSongErKW', 'flags': 524320, 'size': 360.0, 'weight': 280}, 'char_start_idx': 92, 'char_end_idx': 93, 'url': ''}, {'bbox': [594.8499755859375, 316.8499755859375, 594.8499755859375, 316.8499755859375], 'text': ' ', 'rotation': 0.0, 'font': {'name': '', 'flags': 0, 'size': 1.0, 'weight': -1}, 'char_start_idx': 94, 'char_end_idx': 94, 'url': ''}, {'bbox': [352.6499938964844, 304.2865295410156, 388.6499938964844, 322.2865295410156], 'text': '玩儿', 'rotation': 0.0, 'font': {'name': 'NERFFC+HYShuSongErKW', 'flags': 524320, 'size': 360.0, 'weight': 280}, 'char_start_idx': 95, 'char_end_idx': 96, 'url': ''}, {'bbox': [730.6500244140625, 316.8499755859375, 730.6500244140625, 316.8499755859375], 'text': ' ', 'rotation': 0.0, 'font': {'name': '', 'flags': 0, 'size': 1.0, 'weight': -1}, 'char_start_idx': 97, 'char_end_idx': 97, 'url': ''}, {'bbox': [576.6499633789062, 304.2865295410156, 612.6499633789062, 322.2865295410156], 'text': '而特', 'rotation': 0.0, 'font': {'name': 'NERFFC+HYShuSongErKW', 'flags': 524320, 'size': 360.0, 'weight': 280}, 'char_start_idx': 98, 'char_end_idx': 99, 'url': ''}], 'bbox': [216.85000610351562, 117.38656616210938, 1323.3499755859375, 322.2865295410156]}], 'bbox': [58.20000076293945, 117.38656616210938, 1351.3499755859375, 322.2865295410156]}], 'refs': []}]\n"
          ]
        }
      ]
    },
    {
      "cell_type": "markdown",
      "source": [
        "# Conclusion:"
      ],
      "metadata": {
        "id": "AI0g9r-jHhAk"
      }
    },
    {
      "cell_type": "markdown",
      "source": [
        "\n",
        "\n",
        "1.   suggest command-line and code calls\n",
        "2.   only extract plain texts and texts in tables\n",
        "\n"
      ],
      "metadata": {
        "id": "YbgZTIemHmy0"
      }
    }
  ]
}